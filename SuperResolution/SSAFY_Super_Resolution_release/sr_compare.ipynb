{
 "cells": [
  {
   "cell_type": "markdown",
   "id": "893dd504",
   "metadata": {},
   "source": [
    "\n",
    "## 일반 필터와 AI 필터를 비교 해볼 수 있음\n"
   ]
  },
  {
   "cell_type": "code",
   "execution_count": 1,
   "id": "b4c99d37",
   "metadata": {},
   "outputs": [],
   "source": [
    "import sys\n",
    "import tensorflow as tf\n",
    "from PIL import Image  # Pillow module\n",
    "from model import make_model,SuperResolutionModel"
   ]
  },
  {
   "cell_type": "code",
   "execution_count": 2,
   "id": "734d4ac0",
   "metadata": {},
   "outputs": [
    {
     "name": "stdout",
     "output_type": "stream",
     "text": [
      "Model: \"super_resolution_model\"\n",
      "_________________________________________________________________\n",
      " Layer (type)                Output Shape              Param #   \n",
      "=================================================================\n",
      " sequential (Sequential)     (1, 320, 240, 8)          224       \n",
      "                                                                 \n",
      " sequential_1 (Sequential)   (1, 320, 240, 8)          584       \n",
      "                                                                 \n",
      " sequential_2 (Sequential)   (1, 640, 480, 3)          219       \n",
      "                                                                 \n",
      "=================================================================\n",
      "Total params: 1,027\n",
      "Trainable params: 1,027\n",
      "Non-trainable params: 0\n",
      "_________________________________________________________________\n"
     ]
    }
   ],
   "source": [
    "model=make_model(320,240)"
   ]
  },
  {
   "cell_type": "code",
   "execution_count": 3,
   "id": "eb97dc4f",
   "metadata": {},
   "outputs": [],
   "source": [
    "MAX_PEL_VALUE=255"
   ]
  },
  {
   "cell_type": "code",
   "execution_count": 4,
   "id": "fe0850f1",
   "metadata": {},
   "outputs": [],
   "source": [
    "# jpg이미지를 받으면 열어서 텐서로 바꿔서 리턴\n",
    "def load_jpg(filename, low_res=False):\n",
    "    image = Image.open(filename)\n",
    "    if low_res:\n",
    "        image_vga = image.resize((240, 320)) \n",
    "    else:\n",
    "        image_vga = image.resize((480, 640))\n",
    "    image.close()\n",
    "    \n",
    "    return tf.convert_to_tensor(image_vga, tf.float32)"
   ]
  },
  {
   "cell_type": "code",
   "execution_count": 5,
   "id": "e8ec373a",
   "metadata": {},
   "outputs": [],
   "source": [
    "## model과 인풋이 들어오면 sr을 한 numpy 배열 보냄\n",
    "def get_output(model,input):\n",
    "    out_ = model(input[tf.newaxis])\n",
    "    out = tf.clip_by_value(out_, 0, MAX_PEL_VALUE)\n",
    "\n",
    "    return out[0]"
   ]
  },
  {
   "cell_type": "markdown",
   "id": "343e07a3",
   "metadata": {},
   "source": [
    "## 일반 필터와 CNN필터를 적용한 이미지 변환해서 웹사이트에 비교하기"
   ]
  },
  {
   "cell_type": "code",
   "execution_count": 15,
   "id": "74738a29",
   "metadata": {},
   "outputs": [],
   "source": [
    "# Show Input and Output\n",
    "def analyze_output(inp, out):\n",
    "    lr_image =Image.fromarray(tf.cast(inp, tf.uint8).numpy())\n",
    "    lr_image.show(title='Input')\n",
    "    interpolation = Image.NEAREST  # interpolation = Image.BILINEAR\n",
    "    hr_image = lr_image.resize((480, 640), resample = interpolation)\n",
    "    hr_image.show(title='NEAREST filter')\n",
    "    out_image =Image.fromarray(tf.cast(out, tf.uint8).numpy(),)\n",
    "    out_image.show(title='AI Super Resolution')\n"
   ]
  },
  {
   "cell_type": "code",
   "execution_count": 16,
   "id": "8e93975a",
   "metadata": {},
   "outputs": [],
   "source": [
    "def test(input_file):\n",
    "    inp_lr = load_jpg(input_file, True)\n",
    "    out_hr = get_output(model,inp_lr)\n",
    "    analyze_output(inp_lr,out_hr)"
   ]
  },
  {
   "cell_type": "code",
   "execution_count": 17,
   "id": "e6c38af9",
   "metadata": {},
   "outputs": [],
   "source": [
    "test('test_image2.jpg')"
   ]
  },
  {
   "cell_type": "code",
   "execution_count": null,
   "id": "a0147db7",
   "metadata": {},
   "outputs": [],
   "source": []
  },
  {
   "cell_type": "code",
   "execution_count": null,
   "id": "e1af6070",
   "metadata": {},
   "outputs": [],
   "source": []
  }
 ],
 "metadata": {
  "kernelspec": {
   "display_name": "Python 3 (ipykernel)",
   "language": "python",
   "name": "python3"
  },
  "language_info": {
   "codemirror_mode": {
    "name": "ipython",
    "version": 3
   },
   "file_extension": ".py",
   "mimetype": "text/x-python",
   "name": "python",
   "nbconvert_exporter": "python",
   "pygments_lexer": "ipython3",
   "version": "3.9.7"
  }
 },
 "nbformat": 4,
 "nbformat_minor": 5
}
